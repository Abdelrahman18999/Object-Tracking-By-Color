{
 "cells": [
  {
   "cell_type": "markdown",
   "id": "8df2d1bc",
   "metadata": {},
   "source": [
    "**First import all dependencies**"
   ]
  },
  {
   "cell_type": "code",
   "execution_count": 1,
   "id": "c2255e4e",
   "metadata": {},
   "outputs": [],
   "source": [
    "import cv2\n",
    "import numpy as np\n",
    "import matplotlib.pyplot as plt"
   ]
  },
  {
   "cell_type": "markdown",
   "id": "7d484529",
   "metadata": {},
   "source": [
    "__This is a function take from the user the value of (B, G, R) of a certain color and return it as a numpy array__"
   ]
  },
  {
   "cell_type": "code",
   "execution_count": 2,
   "id": "3ebc1b2a",
   "metadata": {},
   "outputs": [],
   "source": [
    "def get_BGR():\n",
    "    BGR = []\n",
    "    for i in range(3):\n",
    "        if i == 0 :\n",
    "            item = int(input(\"Enter the Blue value: \"))\n",
    "        elif i == 1 :\n",
    "            item = int(input(\"Enter the Green value: \"))\n",
    "        elif i == 2 :\n",
    "            item = int(input(\"Enter the Red value: \"))\n",
    "        BGR.append(item)\n",
    "    return np.uint8([[BGR]])"
   ]
  },
  {
   "cell_type": "markdown",
   "id": "8a360028",
   "metadata": {},
   "source": [
    "__This function convert (B, G, R) values to (H, S, V) and return only Hue value__"
   ]
  },
  {
   "cell_type": "code",
   "execution_count": 3,
   "id": "73454ef2",
   "metadata": {},
   "outputs": [],
   "source": [
    "def get_HSV(color):\n",
    "    hsv_color = cv2.cvtColor(color, cv2.COLOR_BGR2HSV)\n",
    "    return hsv_color[0][0][0]"
   ]
  },
  {
   "cell_type": "markdown",
   "id": "e7ec6972",
   "metadata": {},
   "source": [
    "__This is the main function that make a mask and show only the objects which color is close to the user color__"
   ]
  },
  {
   "cell_type": "code",
   "execution_count": 4,
   "id": "886b0586",
   "metadata": {},
   "outputs": [],
   "source": [
    "def object_tracker(hsv_value):\n",
    "    \n",
    "    cap = cv2.VideoCapture(0)\n",
    "    \n",
    "    while True:\n",
    "        \n",
    "        ret, frame = cap.read()\n",
    "        hsv = cv2.cvtColor(frame, cv2.COLOR_BGR2HSV)\n",
    "        \n",
    "        # define lower and upper limit of the object color\n",
    "        upper_limit = np.array([hsv_value + 15, 255, 255])\n",
    "        lower_limit = np.array([hsv_value - 15, 50, 50])\n",
    "        \n",
    "        # Threshold the HSV image to get only blue colors\n",
    "        mask = cv2.inRange(hsv, lower_limit, upper_limit)  # Black and Wight\n",
    "        res = cv2.bitwise_and(frame,frame, mask= mask)\n",
    "        \n",
    "        cv2.imshow('Frame', frame)\n",
    "        cv2.imshow('Mask', mask)\n",
    "        cv2.imshow('Result', res)\n",
    "        \n",
    "        if cv2.waitKey(5) & 0XFF == 27 :\n",
    "            break\n",
    "        \n",
    "    cap.release()\n",
    "    cv2.destroyAllWindows()"
   ]
  },
  {
   "cell_type": "markdown",
   "id": "c3a0b545",
   "metadata": {},
   "source": [
    "__Let's call our 3 functions and show the result__"
   ]
  },
  {
   "cell_type": "code",
   "execution_count": 5,
   "id": "71eefe13",
   "metadata": {},
   "outputs": [
    {
     "name": "stdout",
     "output_type": "stream",
     "text": [
      "Enter the Blue value: 193\n",
      "Enter the Green value: 182\n",
      "Enter the Red value: 255\n"
     ]
    }
   ],
   "source": [
    "BGR_color = get_BGR()\n",
    "hsv_value = get_HSV(BGR_color)\n",
    "object_tracker(hsv_value)"
   ]
  },
  {
   "cell_type": "code",
   "execution_count": null,
   "id": "1d71641d",
   "metadata": {},
   "outputs": [],
   "source": []
  }
 ],
 "metadata": {
  "kernelspec": {
   "display_name": "Python 3",
   "language": "python",
   "name": "python3"
  },
  "language_info": {
   "codemirror_mode": {
    "name": "ipython",
    "version": 3
   },
   "file_extension": ".py",
   "mimetype": "text/x-python",
   "name": "python",
   "nbconvert_exporter": "python",
   "pygments_lexer": "ipython3",
   "version": "3.8.8"
  }
 },
 "nbformat": 4,
 "nbformat_minor": 5
}
